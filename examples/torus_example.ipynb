{
 "cells": [
  {
   "cell_type": "markdown",
   "id": "73d58152",
   "metadata": {},
   "source": [
    "Area of the Torus\n",
    "--------------------------------------------------------------\n",
    "\n",
    "This benchmark focuses on the computational task of computing surface areas for the torus with $R=2,\\, r=1$. We utilize the `distmesh` library to generate a triangulation with $N_{\\Delta}=260$ triangles for the torus."
   ]
  },
  {
   "cell_type": "markdown",
   "id": "a5e59fee",
   "metadata": {},
   "source": [
    "Imports"
   ]
  },
  {
   "cell_type": "code",
   "execution_count": null,
   "id": "847c84d2",
   "metadata": {},
   "outputs": [],
   "source": [
    "# Standard library imports:\n",
    "import matplotlib.pyplot as plt\n",
    "import numpy as np\n",
    "from numba import njit\n",
    "from time import time\n",
    "import matplotlib.pyplot as plt\n",
    "# Surfpy imports:\n",
    "import sys\n",
    "sys.path.append(\"../surf\")\n",
    "from surface_integration import integration"
   ]
  },
  {
   "cell_type": "code",
   "execution_count": null,
   "id": "9f5df739",
   "metadata": {},
   "outputs": [],
   "source": [
    "mesh_path =\"../meshes/torus_260.mat\"\n",
    "R=2\n",
    "r=1\n",
    "#zero level funtion of the torus\n",
    "@njit(fastmath=True)\n",
    "def phi(x: np.ndarray):\n",
    "    ph = np.sqrt(x[0]*x[0] + x[1]*x[1])\n",
    "    return (ph - R)*(ph - R) + x[2]*x[2] - r*r\n",
    "#gradient of the zero level funtion of the torus\n",
    "@njit(fastmath=True)\n",
    "def dphi(x: np.ndarray):\n",
    "    ph = np.sqrt(x[0]*x[0] + x[1]*x[1])\n",
    "    return np.array([-2*R*x[0]/ph + 2*x[0],-2*R*x[1]/ph + 2*x[1],2*x[2]])\n",
    "\n",
    "#integrand\n",
    "def fun_1(x,y,z):\n",
    "    return 0*x+1"
   ]
  },
  {
   "cell_type": "markdown",
   "id": "29d93a30",
   "metadata": {},
   "source": [
    "Error Evaluation Function"
   ]
  },
  {
   "cell_type": "code",
   "execution_count": null,
   "id": "c1b7725c",
   "metadata": {},
   "outputs": [],
   "source": [
    "def err_t(integrand,intp_degree,mesh_path):\n",
    "#     integrand = lambda x, y, z: 0*x+1\n",
    "    t0 = time()\n",
    "    num_result = integration(integrand,phi, dphi, mesh_path, intp_degree)\n",
    "    t1 = time()\n",
    "    exact_area =(2*np.pi*R)*(2*np.pi*r)\n",
    "    print(\"Relative error: \", abs(num_result - exact_area) / exact_area)\n",
    "    print (\"The main function takes:\",{(t1-t0)})\n",
    "    error=abs(num_result - exact_area) / exact_area\n",
    "    time_s=t1-t0\n",
    "    return error,time_s \n",
    "\n",
    "# error coumputed with dune\n",
    "dune_error_2_15=np.array([2.65795e-02, 5.71912e-02, 3.88283e-04, 1.95961e-03, 2.38254e-05 ,9.12810e-05,\n",
    " 2.54586e-06, 4.58271e-06, 4.65939e-07, 2.88915e-07, 9.92779e-07, 4.15304e-06,\n",
    " 2.88960e-04 ,1.60484e-04])\n",
    "\n",
    "# running time of dune\n",
    "running_time=np.array([2.9000e-02, 4.3000e-02, 8.5000e-02, 1.9500e-01, 4.5300e-01, 9.0200e-01,\n",
    " 1.7570e+00, 3.1220e+00, 5.4960e+00, 8.9400e+00, 1.4072e+01, 2.3656e+01,\n",
    " 3.5343e+01, 5.1272e+01])\n",
    "\n",
    "# Degree of Polynomial for surfpy\n",
    "Nrange = list(range(2,30))\n",
    "# Degree of Polynomial used for dune\n",
    "Nrange_1 = list(range(2,16))\n",
    "error1=[] \n",
    "execution_times = []\n",
    "for n in Nrange:\n",
    "    if n%1==0:print(n)\n",
    "    erro1, times = err_t(fun_1,int(n),mesh_path)\n",
    "    error1.append(erro1)\n",
    "    execution_times.append(times)\n",
    "\n",
    "# filename = \"error_torus_260.txt\"\n",
    "\n",
    "# # Write the error values to a text file\n",
    "# with open(filename, \"w\") as file:\n",
    "#     for error in error1:\n",
    "#         file.write(f\"{error},\\n\")\n",
    "\n",
    "# Create subplots\n",
    "fig, ax1 = plt.subplots(figsize=(7.5, 5))\n",
    "\n",
    "# First plot\n",
    "ax1.semilogy(Nrange, error1, '-or', label='HOSQ_CC')\n",
    "ax1.semilogy(Nrange_1, dune_error_2_15, '-ob', label='DCG')\n",
    "ax1.set_xlabel(\"Polynomial degree\", fontsize=14)\n",
    "ax1.set_ylabel(\"Relative error\", fontsize=14)\n",
    "ax1.legend(prop={'size': 12}, loc='best')\n",
    "ax1.set_xticks(np.arange(min(Nrange), max(Nrange), 5))\n",
    "ax1.set_ylim([1.0e-17, 1.0e-0])\n",
    "ax1.grid(True, linestyle='--', alpha=0.7)\n",
    "\n",
    "# The second plot\n",
    "left, bottom, width, height = [0.63, 0.35, 0.35, 0.44]\n",
    "ax2 = fig.add_axes([left, bottom, width, height])\n",
    "ax2.plot(Nrange_1, running_time, '-*b')\n",
    "ax2.plot(Nrange, execution_times, '-*r')\n",
    "ax2.set_xlabel('Polynomial degree', fontsize=12)\n",
    "ax2.set_ylabel('Runtime (seconds)', fontsize=12)\n",
    "ax2.set_xlim([2, 30])\n",
    "ax2.set_ylim([0, 28])\n",
    "ax2.grid(True, linestyle='--', alpha=0.7)\n",
    "# Adjust layout to prevent clipping of labels\n",
    "plt.tight_layout()\n",
    "plt.savefig(\"../images/clenshaw_convergence_for_torus_linf.pdf\")\n",
    "plt.show()"
   ]
  },
  {
   "cell_type": "code",
   "execution_count": null,
   "id": "bcf37a67",
   "metadata": {},
   "outputs": [],
   "source": []
  }
 ],
 "metadata": {
  "kernelspec": {
   "display_name": "Python 3 (ipykernel)",
   "language": "python",
   "name": "python3"
  },
  "language_info": {
   "codemirror_mode": {
    "name": "ipython",
    "version": 3
   },
   "file_extension": ".py",
   "mimetype": "text/x-python",
   "name": "python",
   "nbconvert_exporter": "python",
   "pygments_lexer": "ipython3",
   "version": "3.11.5"
  }
 },
 "nbformat": 4,
 "nbformat_minor": 5
}
