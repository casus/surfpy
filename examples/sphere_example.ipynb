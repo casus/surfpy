{
 "cells": [
  {
   "cell_type": "markdown",
   "id": "312a3b01",
   "metadata": {},
   "source": [
    "Area of the Sphere\n",
    "--------------------------------------------------------------\n",
    "\n",
    "This benchmark focuses on the computational task of computing surface areas for the standard sphere $S^2$. We utilize the `distmesh` library to generate Delaunay triangulations with $N_{\\Delta}=124$ triangles for the sphere."
   ]
  },
  {
   "cell_type": "markdown",
   "id": "dc2504b8",
   "metadata": {},
   "source": [
    "Imports"
   ]
  },
  {
   "cell_type": "code",
   "execution_count": null,
   "id": "847c84d2",
   "metadata": {},
   "outputs": [],
   "source": [
    "# Standard library imports:\n",
    "import matplotlib.pyplot as plt\n",
    "import numpy as np\n",
    "from numba import njit\n",
    "from time import time\n",
    "import matplotlib.pyplot as plt\n",
    "# Surfpy imports:\n",
    "import sys\n",
    "sys.path.append(\"../surf\")\n",
    "from surface_integration import integration"
   ]
  },
  {
   "cell_type": "code",
   "execution_count": null,
   "id": "9f5df739",
   "metadata": {},
   "outputs": [],
   "source": [
    "mesh_path =\"../meshes/SphereMesh_N=124_r=1.mat\"\n",
    "#zero level function of the sphere\n",
    "@njit(fastmath=True)\n",
    "def phi(x: np.ndarray):\n",
    "    return x[0]**2+x[1]**2+x[2]**2-1\n",
    "# gradient of the zero level funtion of the sphere\n",
    "@njit(fastmath=True)\n",
    "def dphi(x: np.ndarray):\n",
    "    return np.array([2*x[0],2*x[1],2*x[2]])\n",
    "\n",
    "#integrand\n",
    "def fun_1(x,y,z):\n",
    "    return 0*x+1"
   ]
  },
  {
   "cell_type": "markdown",
   "id": "90c13d84",
   "metadata": {},
   "source": [
    "Error Evaluation Function"
   ]
  },
  {
   "cell_type": "code",
   "execution_count": null,
   "id": "c1b7725c",
   "metadata": {},
   "outputs": [],
   "source": [
    "def err_t(integrand,intp_degree,mesh_path):\n",
    "#     integrand = lambda x, y, z: 0*x+1\n",
    "    t0 = time()\n",
    "    num_result = integration(integrand,phi, dphi, mesh_path, intp_degree)\n",
    "    t1 = time()\n",
    "    exact_area =4*np.pi\n",
    "    print(\"Relative error: \", abs(num_result - exact_area) / exact_area)\n",
    "    print (\"The main function takes:\",{(t1-t0)})\n",
    "    error=abs(num_result - exact_area) / exact_area\n",
    "    time_s=t1-t0\n",
    "    return error,time_s \n",
    "\n",
    "# error coumputed with dune\n",
    "dune_error_2_15=np.array([6.75963e-03, 2.76511e-03, 6.96135e-06, 5.42023e-05, 9.06393e-07, 1.12653e-06,\n",
    " 5.65073e-08, 2.17214e-08, 3.41412e-09, 4.15127e-08, 3.52480e-08, 8.07693e-07,3.48079e-05, 3.47407e-05])\n",
    "\n",
    "# running time of dune\n",
    "running_time = np.array([1.6000e-02, 2.6000e-02, 4.7000e-02, 9.7000e-02, 2.2600e-01,\n",
    "       4.4100e-01, 8.5000e-01, 1.5590e+00, 2.7040e+00, 4.3730e+00,6.9520e+00, 1.1719e+01,\n",
    "                                                                 1.7427e+01, 2.5240e+01])\n",
    "# Degree of Polynomial for surfpy\n",
    "Nrange = list(range(2,30))\n",
    "# Degree of Polynomial used for dune\n",
    "Nrange_1 = list(range(2,16))\n",
    "error1=[] \n",
    "execution_times = []\n",
    "for n in Nrange:\n",
    "    if n%1==0:print(n)\n",
    "    erro1, times = err_t(fun_1,int(n),mesh_path)\n",
    "    error1.append(erro1)\n",
    "    execution_times.append(times)\n",
    "\n",
    "# filename = \"SphereMesh_N=124_r=1.txt\"\n",
    "\n",
    "# # Write the error values to a text file\n",
    "# with open(filename, \"w\") as file:\n",
    "#     for error in error1:\n",
    "#         file.write(f\"{error},\\n\")\n",
    "\n",
    "# Create subplots\n",
    "fig, ax1 = plt.subplots(figsize=(7.5, 5))\n",
    "\n",
    "# First plot\n",
    "ax1.semilogy(Nrange, error1, '-or', label='HOSQ_CC')\n",
    "ax1.semilogy(Nrange_1, dune_error_2_15, '-ob', label='DCG')\n",
    "ax1.set_xlabel(\"Polynomial degree\", fontsize=14)\n",
    "ax1.set_ylabel(\"Relative error\", fontsize=14)\n",
    "ax1.legend(prop={'size': 12}, loc='best')\n",
    "ax1.set_xticks(np.arange(min(Nrange), max(Nrange), 5))\n",
    "ax1.set_ylim([1.0e-17, 1.0e-0])\n",
    "ax1.grid(True, linestyle='--', alpha=0.7)\n",
    "\n",
    "# The second plot\n",
    "left, bottom, width, height = [0.63, 0.35, 0.35, 0.44]\n",
    "ax2 = fig.add_axes([left, bottom, width, height])\n",
    "ax2.plot(Nrange_1, running_time, '-*b')\n",
    "ax2.plot(Nrange, execution_times, '-*r')\n",
    "ax2.set_xlabel('Polynomial degree', fontsize=12)\n",
    "ax2.set_ylabel('Runtime (seconds)', fontsize=12)\n",
    "ax2.set_xlim([2, 30])\n",
    "ax2.set_ylim([0, 28])\n",
    "ax2.grid(True, linestyle='--', alpha=0.7)\n",
    "# Adjust layout to prevent clipping of labels\n",
    "plt.tight_layout()\n",
    "plt.savefig(\"../images/clenshaw_convergence_for_sphere_linf.pdf\")\n",
    "\n",
    "# Show the plot\n",
    "plt.show()\n"
   ]
  }
 ],
 "metadata": {
  "kernelspec": {
   "display_name": "Python 3 (ipykernel)",
   "language": "python",
   "name": "python3"
  },
  "language_info": {
   "codemirror_mode": {
    "name": "ipython",
    "version": 3
   },
   "file_extension": ".py",
   "mimetype": "text/x-python",
   "name": "python",
   "nbconvert_exporter": "python",
   "pygments_lexer": "ipython3",
   "version": "3.11.5"
  }
 },
 "nbformat": 4,
 "nbformat_minor": 5
}
