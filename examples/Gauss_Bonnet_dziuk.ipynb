{
 "cells": [
  {
   "cell_type": "markdown",
   "id": "03891fd4",
   "metadata": {},
   "source": [
    "Gauss Bonnet theorem on the first Dziuk’s surface\n",
    "-------------------------------------------------\n",
    "\n",
    "Consider the Dziuks surface with implicit equation as: \n",
    "\n",
    "\\begin{equation*}\n",
    "       \\phi(x,y,z) = (x-z^2)^2 +y^2 +z^2-1 = 0\n",
    "\\end{equation*}\n",
    "the Euler Characteristic is $\\chi(\\mathcal{M})=2$, therefore we have:\n",
    "\n",
    "\\begin{equation*}\n",
    "\\int_{\\mathcal{M}}KdS = 4\\pi\n",
    "\\end{equation*}\n",
    "<img src=\"../images/dziuk's_surface.png\" alt=\"drawing\" width=\"300\"/>\n",
    "\n",
    "\n",
    "We utilize the `distmesh` library to generate a triangulation with $N_{\\Delta}=390$ triangles for the Dziuk's. surface."
   ]
  },
  {
   "cell_type": "markdown",
   "id": "31903e08",
   "metadata": {},
   "source": [
    "Imports"
   ]
  },
  {
   "cell_type": "code",
   "execution_count": 12,
   "id": "847c84d2",
   "metadata": {},
   "outputs": [],
   "source": [
    "# Standard library imports:\n",
    "import matplotlib.pyplot as plt\n",
    "import numpy as np\n",
    "from numba import njit\n",
    "from time import time\n",
    "import matplotlib.pyplot as plt\n",
    "# Surfpy imports:\n",
    "import sys\n",
    "sys.path.append(\"../surf\")\n",
    "from surface_integration import integration"
   ]
  },
  {
   "cell_type": "code",
   "execution_count": 13,
   "id": "9f5df739",
   "metadata": {},
   "outputs": [],
   "source": [
    "mesh_path =\"../meshes/dziuk_N=3900.mat\"\n",
    "#zero level funtion of the Dziuk's surface\n",
    "@njit(fastmath=True)\n",
    "def phi(x: np.ndarray):\n",
    "    return (x[0]-x[2]**2)**2+x[1]**2+x[2]**2-1\n",
    "#gradient of the zero level funtion of the Dziuk's surface\n",
    "@njit(fastmath=True)\n",
    "def dphi(x: np.ndarray):\n",
    "    return np.array([2*(x[0]-x[2]**2), 2*x[1], 2*(-2*x[0]*x[2]+2*x[2]**3+x[2])])\n",
    "\n",
    "#Gauss curvature of the Dziuk's surface computed with Mathematica\n",
    "def fun_1(x,y,z):\n",
    "    return (y**2+z**2-(x-z**2)*(x*(2*x-1)+2*y**2+z**2-4*x*z**2+2*z**4))/(y**2+z**2+(x-z**2)*(x+(4*x-5)*z**2-4*z**4))**2\n"
   ]
  },
  {
   "cell_type": "markdown",
   "id": "2a925918",
   "metadata": {},
   "source": [
    "Error Evaluation Function"
   ]
  },
  {
   "cell_type": "code",
   "execution_count": 10,
   "id": "c1b7725c",
   "metadata": {},
   "outputs": [],
   "source": [
    "def err_t(integrand,intp_degree,mesh_path):\n",
    "#     integrand = lambda x, y, z: 0*x+1\n",
    "    t0 = time()\n",
    "    num_result = integration(integrand,phi, dphi, mesh_path, intp_degree)\n",
    "    t1 = time()\n",
    "    exact_area =4*np.pi\n",
    "    print(\"Relative error: \", abs(num_result - exact_area) / exact_area)\n",
    "    print (\"The main function takes:\",{(t1-t0)})\n",
    "    error=abs(num_result - exact_area) / exact_area\n",
    "    time_s=t1-t0\n",
    "    return error,time_s \n",
    "\n",
    "#error computed with dune\n",
    "dune_error_2_15 =np.array([ 1.24939e-02, 2.11375e-04, 5.73064e-04, 9.15981e-06, 2.59706e-05,\n",
    " 3.71289e-06, 8.00355e-07, 1.88131e-07, 3.22471e-07 ,9.25338e-07, 2.69146e-06,\n",
    " 6.20421e-05, 5.06034e-06])\n",
    "# running time of dune\n",
    "running_times = np.array([1.391000e+00 ,3.140000e+00, 7.074000e+00, 1.596900e+01,\n",
    " 3.083800e+01, 5.897300e+01 ,1.045970e+02 ,1.812150e+02, 2.935110e+02,\n",
    " 4.702450e+02 ,7.800880e+02 ,1.153811e+03 ,1.670555e+03]) \n",
    "\n",
    "# Degree of Polynomial for surfpy\n",
    "Nrange = list(range(3,30))\n",
    "# Degree of Polynomial used for dune\n",
    "Nrange_1 = list(range(3,16))\n",
    "error1=[] \n",
    "execution_times = []\n",
    "for n in Nrange:\n",
    "    if n%1==0:print(n)\n",
    "    erro1, times = err_t(fun_1,int(n),mesh_path)\n",
    "    error1.append(erro1)\n",
    "    execution_times.append(times)\n",
    "\n",
    "# filename = \"error_dziuk_N=3900.txt\"\n",
    "\n",
    "# # Write the error values to a text file\n",
    "# with open(filename, \"w\") as file:\n",
    "#     for error in error1:\n",
    "#         file.write(f\"{error},\\n\")\n",
    "        \n",
    "# Create subplots\n",
    "fig, ax1 = plt.subplots(figsize=(7, 5))\n",
    "# First plot\n",
    "ax1.semilogy(Nrange, error1, '-or', label='HOSQ_CC')\n",
    "ax1.semilogy(Nrange_1, dune_error_2_15, '-ob', label='DCG')\n",
    "ax1.set_xlabel(\"Polynomial degree\", fontsize=14)\n",
    "ax1.set_ylabel(\"Relative error\", fontsize=14)\n",
    "ax1.legend(frameon=False, prop={'size': 10}, loc='best')\n",
    "ax1.set_xticks(np.arange(min(Nrange), max(Nrange), 5))\n",
    "ax1.set_ylim([1.0e-16, 1.0e-0])\n",
    "ax1.grid(True, linestyle='--', alpha=0.7)\n",
    "\n",
    "# The second plot\n",
    "left, bottom, width, height = [0.55, 0.32, 0.35, 0.35]\n",
    "ax2 = fig.add_axes([left, bottom, width, height])\n",
    "ax2.plot(Nrange_1, running_times, '-*b')\n",
    "ax2.plot(Nrange, execution_times, '-*r')\n",
    "ax2.set_xlabel('Polynomial degree', fontsize=12)\n",
    "ax2.set_ylabel('Runtime (sec)', fontsize=12)\n",
    "ax2.set_xlim([2, 30])\n",
    "ax2.set_ylim([0, 200])\n",
    "ax2.grid(True, linestyle='--', alpha=0.7)\n",
    "# ax1.yscale(\"log\")\n",
    "plt.savefig(\"../images/clenshaw_convergence_for_dziuk_linf.pdf\", dpi=300, bbox_inches='tight')\n",
    "# Show the plot\n",
    "plt.show()"
   ]
  }
 ],
 "metadata": {
  "kernelspec": {
   "display_name": "Python 3 (ipykernel)",
   "language": "python",
   "name": "python3"
  },
  "language_info": {
   "codemirror_mode": {
    "name": "ipython",
    "version": 3
   },
   "file_extension": ".py",
   "mimetype": "text/x-python",
   "name": "python",
   "nbconvert_exporter": "python",
   "pygments_lexer": "ipython3",
   "version": "3.11.5"
  }
 },
 "nbformat": 4,
 "nbformat_minor": 5
}
